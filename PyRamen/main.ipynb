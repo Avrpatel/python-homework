{
 "cells": [
  {
   "cell_type": "code",
   "execution_count": 26,
   "id": "32528af7-981a-41f0-b6bc-cd8cf6982456",
   "metadata": {},
   "outputs": [],
   "source": [
    "from pathlib import Path \n",
    "import csv\n",
    "\n",
    "\n",
    "# open/read menu data file \n",
    "\n",
    "csvpath_menu = Path('Resources/menu_data.csv')\n",
    "\n",
    "with open (csvpath_menu, 'r') as csvfile_menu:\n",
    "    \n",
    "    csvreader_menu = csv.reader(csvfile_menu, delimiter=',')\n",
    "    csv_header_menu = next(csvreader_menu)\n",
    "    \n",
    "   # initialize master_menu using for loop \n",
    "\n",
    "    master_menu = [] \n",
    "    for row in csvreader_menu:\n",
    "        master_menu.append(row)\n",
    "        \n",
    "    #print(master_menu) \n",
    "    \n",
    "    \n",
    "   # initialize count and lists before for loop \n",
    "\n",
    "    menu_name = []\n",
    "    menu_cat = []\n",
    "    menu_desc = []\n",
    "    menu_price = []\n",
    "    menu_cost = []\n",
    "\n",
    "    for row in csvreader_menu:\n",
    "    \n",
    "        name = row[0]\n",
    "        menu_name.append(name)\n",
    "        \n",
    "        cat = row[1]\n",
    "        menu_cat.append(cat)\n",
    "        \n",
    "        desc = row[2]\n",
    "        menu_desc.append(desc)\n",
    "        \n",
    "        price = row[3]\n",
    "        menu_price.append(price)\n",
    "    \n",
    "        cost = row[4]\n",
    "        menu_cost.append(cost)\n",
    "    \n",
    "    \n",
    "#print(menu_name)\n",
    "#print(menu_cat)\n",
    "#print(menu_desc)\n",
    "#print(menu_price)\n",
    "#print(menu_cost)\n",
    "\n",
    "    \n",
    "\n"
   ]
  },
  {
   "cell_type": "code",
   "execution_count": 30,
   "id": "faebb9ee-70ec-4e55-82d1-506948167312",
   "metadata": {},
   "outputs": [
    {
     "name": "stderr",
     "output_type": "stream",
     "text": [
      "IOPub data rate exceeded.\n",
      "The Jupyter server will temporarily stop sending output\n",
      "to the client in order to avoid crashing it.\n",
      "To change this limit, set the config variable\n",
      "`--ServerApp.iopub_data_rate_limit`.\n",
      "\n",
      "Current values:\n",
      "ServerApp.iopub_data_rate_limit=1000000.0 (bytes/sec)\n",
      "ServerApp.rate_limit_window=3.0 (secs)\n",
      "\n"
     ]
    }
   ],
   "source": [
    "# open/read sales data file\n",
    "\n",
    "csvpath_sales = Path('Resources/sales_data.csv')\n",
    "\n",
    "with open (csvpath_sales, 'r') as csvfile_sales:\n",
    "    \n",
    "    csvreader_sales = csv.reader(csvfile_sales, delimiter=',')\n",
    "    csv_header_sales = next(csvreader_sales)\n",
    "    \n",
    "    master_sales = []\n",
    "    for row in csvreader_sales:\n",
    "        master_sales.append(row)\n",
    "        \n",
    "        \n",
    "    print(master_sales)\n",
    "    \n",
    "    \n"
   ]
  },
  {
   "cell_type": "code",
   "execution_count": null,
   "id": "169c347c-0521-4fa4-8e82-776e7f307765",
   "metadata": {},
   "outputs": [],
   "source": []
  }
 ],
 "metadata": {
  "kernelspec": {
   "display_name": "Python 3 (ipykernel)",
   "language": "python",
   "name": "python3"
  },
  "language_info": {
   "codemirror_mode": {
    "name": "ipython",
    "version": 3
   },
   "file_extension": ".py",
   "mimetype": "text/x-python",
   "name": "python",
   "nbconvert_exporter": "python",
   "pygments_lexer": "ipython3",
   "version": "3.7.11"
  }
 },
 "nbformat": 4,
 "nbformat_minor": 5
}
