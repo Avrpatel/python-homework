{
 "cells": [
  {
   "cell_type": "code",
   "execution_count": 1,
   "id": "5710145c-0dca-4dbe-874c-1b1900ac8bb8",
   "metadata": {},
   "outputs": [
    {
     "name": "stdout",
     "output_type": "stream",
     "text": [
      "Total Months: 86\n",
      "Total: $38382578\n",
      "Average Change: $-2315.12\n",
      "Greatest Increase in Profits: Feb-2012 ($1926159)\n",
      "Greatest Decrease in Profits: Sep-2013 ($-2196167)\n"
     ]
    }
   ],
   "source": [
    "from pathlib import Path\n",
    "import csv \n",
    "\n",
    "csvpath = Path('Resources/budget_data.csv')\n",
    "\n",
    "with open (csvpath, 'r') as csvfile:\n",
    "    \n",
    "    csvreader = csv.reader(csvfile, delimiter=',')\n",
    "    \n",
    "    csv_header = next(csvreader)\n",
    "       \n",
    "    \n",
    "    count = 0 # count initiated to figure out total number of months \n",
    "    pl_list = []  # list to contain profit and loss data\n",
    "    date_list = [] #list to contain date data \n",
    "    financial_records = {}\n",
    "    \n",
    "    \n",
    "    for row in csvreader:\n",
    "        \n",
    "        date = row[0]\n",
    "        count+= 1 \n",
    "        date_list.append(date)\n",
    "        \n",
    "        pl = int(row[1])\n",
    "        pl_list.append(pl)\n",
    "        \n",
    "    \n",
    "    total_pl = sum(pl_list)  # total profit/loss     \n",
    "    change_list = []\n",
    "    \n",
    "    for i in range(len(pl_list)-1): # using a for loop to index items in the pl_list\n",
    "        change = pl_list[i+1] - pl_list[i]\n",
    "        change_list.append(change)\n",
    "        \n",
    "    average_change = round(sum(change_list)/len(change_list),2)\n",
    "        \n",
    "    start_date = date_list.pop(0) # remove first date in order to make the length of date_list and change_list the same\n",
    "                                  # popped date also stored in variable start_date in case we need it again\n",
    "    \n",
    "    financial_records = dict(zip(date_list, change_list)) #use zip function to create a dictionary from two lists of the same length\n",
    "    \n",
    "    max_profit_change = max(financial_records.values())\n",
    "    max_profit_date = [key for key, value in financial_records.items() if value == max_profit_change] # the output is a list \n",
    "    most_profitable_date = ' '.join(max_profit_date) # method to convert a list into a string\n",
    "    \n",
    "    \n",
    "    max_loss_change = min(financial_records.values()) \n",
    "    max_loss_date = [key for key, value in financial_records.items() if value == max_loss_change] # the output is a list \n",
    "    least_profitable_date = ' '.join(max_loss_date) #method to convert a list into a string\n",
    "    \n",
    "\n",
    "    \n",
    "print(f\"Total Months: {count}\")\n",
    "print(f\"Total: ${total_pl}\")\n",
    "print(f\"Average Change: ${average_change}\")\n",
    "print(f\"Greatest Increase in Profits: {most_profitable_date} (${max_profit_change})\")\n",
    "print(f\"Greatest Decrease in Profits: {least_profitable_date} (${max_loss_change})\")\n",
    "\n",
    "output_path = 'PyBank-Results'\n",
    "\n",
    "with open (output_path, 'w') as file:\n",
    "    file.write(f\"Total Months: {count}\\n\")\n",
    "    file.write(f\"Total: ${total_pl}\\n\")\n",
    "    file.write(f\"Average Change: ${average_change}\\n\")\n",
    "    file.write(f\"Greatest Increase in Profits: {most_profitable_date} (${max_profit_change})\\n\")\n",
    "    file.write(f\"Greatest Decrease in Profits: {least_profitable_date} (${max_loss_change})\")\n",
    "    \n",
    "\n"
   ]
  },
  {
   "cell_type": "code",
   "execution_count": null,
   "id": "35f4ca54-f90a-427b-86a9-af97d1f288c2",
   "metadata": {},
   "outputs": [],
   "source": []
  },
  {
   "cell_type": "code",
   "execution_count": null,
   "id": "901fd44a-73ed-495e-81b1-7f491b8c2f39",
   "metadata": {},
   "outputs": [],
   "source": []
  }
 ],
 "metadata": {
  "kernelspec": {
   "display_name": "Python 3 (ipykernel)",
   "language": "python",
   "name": "python3"
  },
  "language_info": {
   "codemirror_mode": {
    "name": "ipython",
    "version": 3
   },
   "file_extension": ".py",
   "mimetype": "text/x-python",
   "name": "python",
   "nbconvert_exporter": "python",
   "pygments_lexer": "ipython3",
   "version": "3.7.11"
  }
 },
 "nbformat": 4,
 "nbformat_minor": 5
}
